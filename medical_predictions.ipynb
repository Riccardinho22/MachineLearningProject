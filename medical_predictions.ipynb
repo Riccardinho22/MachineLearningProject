{
 "cells": [
  {
   "cell_type": "code",
   "execution_count": null,
   "metadata": {
    "pycharm": {
     "name": "#%%\n"
    }
   },
   "outputs": [],
   "source": [
    "import pickle\n",
    "file = open(\"pickle/1MD/1MD_imputation.pkl\",'rb')\n",
    "dataset = pickle.load(file)"
   ]
  },
  {
   "cell_type": "code",
   "execution_count": null,
   "metadata": {
    "pycharm": {
     "name": "#%%\n"
    }
   },
   "outputs": [],
   "source": [
    "# ----------  init features selection----------\n",
    "from ProjectML.monthDeath.pre_processing import *\n",
    "from ProjectML.monthDeath.feature_extraction import *\n",
    "X, y, dataset = extract_feature(dataset)\n",
    "X = drop_corr_feature(X, 0.6)\n",
    "X = best_eight_features(X)\n",
    "# ----------  end features selection----------\n"
   ]
  },
  {
   "cell_type": "code",
   "execution_count": null,
   "metadata": {
    "pycharm": {
     "name": "#%%\n"
    }
   },
   "outputs": [],
   "source": [
    "# load model\n",
    "file = open(\"pickle/1MD/model_xgb.pkl\",'rb')\n",
    "xgb = pickle.load(file)\n"
   ]
  },
  {
   "cell_type": "code",
   "execution_count": null,
   "metadata": {
    "pycharm": {
     "name": "#%%\n"
    }
   },
   "outputs": [],
   "source": [
    "# evaluation\n",
    "from ProjectML.general_util.evaluation import *\n",
    "print(\"Cross validation cv = 5 \")\n",
    "balanced_accuracy_score = get_balanced_accuracy(X, y, xgb)\n",
    "print(\"Balanced accuracy: %0.2f (+/- %0.2f)\" % (balanced_accuracy_score.mean(), balanced_accuracy_score.std() * 2))\n",
    "f1_score = get_f1_scores(X, y, xgb)\n",
    "print(\"f1_score: %0.2f (+/- %0.2f)\" % (f1_score.mean(), f1_score.std() * 2))\n",
    "\n"
   ]
  },
  {
   "cell_type": "code",
   "execution_count": null,
   "outputs": [],
   "source": [
    "file2 = open(\"pickle/PS/PS_imputation.pkl\",'rb')\n",
    "dataset = pickle.load(file2)"
   ],
   "metadata": {
    "collapsed": false,
    "pycharm": {
     "name": "#%%\n"
    }
   }
  },
  {
   "cell_type": "code",
   "execution_count": null,
   "outputs": [],
   "source": [
    "# ----------  init features selection----------\n",
    "from ProjectML.proceduralSuccess.pre_processing import *\n",
    "from ProjectML.proceduralSuccess.feature_extraction import *\n",
    "X, y, dataset = extract_feature(dataset)\n",
    "mask, gb_coefs, gb_mask, rf_coefs, rf_mask = voting_feature_selection(X, y)\n",
    "X = X.loc[:,mask]\n",
    "X_scaled = X_scaled.loc[:, mask]\n",
    "# ----------  end features selection----------\n"
   ],
   "metadata": {
    "collapsed": false,
    "pycharm": {
     "name": "#%%\n"
    }
   }
  },
  {
   "cell_type": "code",
   "execution_count": null,
   "outputs": [],
   "source": [
    "# load model\n",
    "file2 = open(\"pickle/PS/model_random_forest.pkl\",'rb')\n",
    "rf= pickle.load(file)\n"
   ],
   "metadata": {
    "collapsed": false,
    "pycharm": {
     "name": "#%%\n"
    }
   }
  },
  {
   "cell_type": "code",
   "execution_count": null,
   "metadata": {},
   "outputs": [],
   "source": [
    "# load model\n",
    "file2 = open(\"pickle/PS/model_random_forest.pkl\",'rb')\n",
    "rf= pickle.load(file)\n"
   ]
  },
  {
   "cell_type": "code",
   "execution_count": null,
   "metadata": {},
   "outputs": [],
   "source": [
    "# ----------  init features selection----------\n",
    "from ProjectML.proceduralSuccess.pre_processing import *\n",
    "from ProjectML.proceduralSuccess.feature_extraction import *\n",
    "X, y, dataset = extract_feature(dataset)\n",
    "mask, gb_coefs, gb_mask, rf_coefs, rf_mask = voting_feature_selection(X, y)\n",
    "X = X.loc[:,mask]\n",
    "X_scaled = X_scaled.loc[:, mask]\n",
    "# ----------  end features selection----------\n"
   ]
  },
  {
   "cell_type": "code",
   "execution_count": null,
   "metadata": {},
   "outputs": [],
   "source": [
    "# load model\n",
    "file2 = open(\"pickle/PS/model_random_forest.pkl\",'rb')\n",
    "rf= pickle.load(file)\n"
   ]
  }
 ],
 "metadata": {
  "kernelspec": {
   "display_name": "Python 3",
   "language": "python",
   "name": "python3"
  },
  "language_info": {
   "codemirror_mode": {
    "name": "ipython",
    "version": 3
   },
   "file_extension": ".py",
   "mimetype": "text/x-python",
   "name": "python",
   "nbconvert_exporter": "python",
   "pygments_lexer": "ipython3",
   "version": "3.7.3"
  },
  "pycharm": {
   "stem_cell": {
    "cell_type": "raw",
    "source": [],
    "metadata": {
     "collapsed": false
    }
   }
  }
 },
 "nbformat": 4,
 "nbformat_minor": 1
}