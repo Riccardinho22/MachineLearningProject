{
 "cells": [
  {
   "cell_type": "code",
   "execution_count": null,
   "outputs": [],
   "source": [
    "import pickle\n",
    "file = open(\"pickle/1MD/1MD_imputation.pkl\",'rb')\n",
    "dataset = pickle.load(file)"
   ],
   "metadata": {
    "collapsed": false,
    "pycharm": {
     "name": "#%%\n"
    }
   }
  },
  {
   "cell_type": "code",
   "execution_count": null,
   "outputs": [],
   "source": [
    "# ----------  init features selection----------\n",
    "from ProjectML.monthDeath.pre_processing import *\n",
    "from ProjectML.monthDeath.feature_extraction import *\n",
    "X, y, dataset = extract_feature(dataset)\n",
    "X = drop_corr_feature(X, 0.6)\n",
    "X = best_eight_features(X)\n",
    "# ----------  end features selection----------\n"
   ],
   "metadata": {
    "collapsed": false,
    "pycharm": {
     "name": "#%%\n"
    }
   }
  },
  {
   "cell_type": "code",
   "execution_count": null,
   "outputs": [],
   "source": [
    "# load model\n",
    "file = open(\"pickle/1MD/model_xgb.pkl\",'rb')\n",
    "xgb = pickle.load(file)\n"
   ],
   "metadata": {
    "collapsed": false,
    "pycharm": {
     "name": "#%%\n"
    }
   }
  },
  {
   "cell_type": "code",
   "execution_count": null,
   "outputs": [],
   "source": [
    "# evaluation\n",
    "from ProjectML.general_util.evaluation import *\n",
    "print(\"Cross validation cv = 5 \")\n",
    "balanced_accuracy_score = get_balanced_accuracy(X, y, xgb)\n",
    "print(\"Balanced accuracy: %0.2f (+/- %0.2f)\" % (balanced_accuracy_score.mean(), balanced_accuracy_score.std() * 2))\n",
    "f1_score = get_f1_scores(X, y, xgb)\n",
    "print(\"f1_score: %0.2f (+/- %0.2f)\" % (f1_score.mean(), f1_score.std() * 2))\n",
    "\n"
   ],
   "metadata": {
    "collapsed": false,
    "pycharm": {
     "name": "#%%\n"
    }
   }
  }
 ],
 "metadata": {
  "kernelspec": {
   "display_name": "Python 3",
   "language": "python",
   "name": "python3"
  },
  "language_info": {
   "codemirror_mode": {
    "name": "ipython",
    "version": 2
   },
   "file_extension": ".py",
   "mimetype": "text/x-python",
   "name": "python",
   "nbconvert_exporter": "python",
   "pygments_lexer": "ipython2",
   "version": "2.7.6"
  },
  "pycharm": {
   "stem_cell": {
    "cell_type": "raw",
    "source": [],
    "metadata": {
     "collapsed": false
    }
   }
  }
 },
 "nbformat": 4,
 "nbformat_minor": 0
}