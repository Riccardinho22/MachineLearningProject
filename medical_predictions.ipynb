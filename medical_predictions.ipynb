{
 "cells": [
  {
   "cell_type": "markdown",
   "metadata": {
    "pycharm": {
     "name": "#%% md\n"
    }
   },
   "source": [
    "# One Month Death"
   ]
  },
  {
   "cell_type": "code",
   "execution_count": 1,
   "metadata": {
    "pycharm": {
     "name": "#%%\n"
    }
   },
   "outputs": [],
   "source": [
    "import pickle\n",
    "file = open(\"pickle/1MD/1MD_imputation.pkl\",'rb')\n",
    "dataset = pickle.load(file)"
   ]
  },
  {
   "cell_type": "code",
   "execution_count": 2,
   "metadata": {
    "pycharm": {
     "name": "#%%\n"
    }
   },
   "outputs": [],
   "source": [
    "# ----------  init features selection----------\n",
    "from ProjectML.monthDeath.pre_processing import *\n",
    "from ProjectML.monthDeath.feature_extraction import *\n",
    "X, y, dataset = extract_feature(dataset)\n",
    "X = drop_corr_feature(X, 0.6)\n",
    "X = best_eight_features(X)\n",
    "# ----------  end features selection----------\n"
   ]
  },
  {
   "cell_type": "code",
   "execution_count": 3,
   "metadata": {
    "pycharm": {
     "name": "#%%\n"
    }
   },
   "outputs": [
    {
     "name": "stderr",
     "output_type": "stream",
     "text": [
      "C:\\Users\\utente\\AppData\\Roaming\\Python\\Python37\\site-packages\\sklearn\\base.py:318: UserWarning: Trying to unpickle estimator LabelEncoder from version 0.22.1 when using version 0.22. This might lead to breaking code or invalid results. Use at your own risk.\n",
      "  UserWarning)\n"
     ]
    }
   ],
   "source": [
    "# load model\n",
    "file = open(\"pickle/1MD/model_xgb.pkl\",'rb')\n",
    "xgb = pickle.load(file)"
   ]
  },
  {
   "cell_type": "code",
   "execution_count": 4,
   "metadata": {
    "pycharm": {
     "name": "#%%\n"
    }
   },
   "outputs": [
    {
     "name": "stdout",
     "output_type": "stream",
     "text": [
      "Cross validation cv = 5 \n",
      "Balanced accuracy: 0.70 (+/- 0.07)\n",
      "f1_score: 0.50 (+/- 0.10)\n"
     ]
    }
   ],
   "source": [
    "# evaluation\n",
    "from ProjectML.general_util.evaluation import *\n",
    "print(\"Cross validation cv = 5 \")\n",
    "balanced_accuracy_score = get_balanced_accuracy(X, y, xgb)\n",
    "print(\"Balanced accuracy: %0.2f (+/- %0.2f)\" % (balanced_accuracy_score.mean(), balanced_accuracy_score.std() * 2))\n",
    "f1_score = get_f1_scores(X, y, xgb)\n",
    "print(\"f1_score: %0.2f (+/- %0.2f)\" % (f1_score.mean(), f1_score.std() * 2))"
   ]
  },
  {
   "cell_type": "markdown",
   "metadata": {},
   "source": [
    "# Procedural Success"
   ]
  },
  {
   "cell_type": "code",
   "execution_count": 5,
   "metadata": {
    "pycharm": {
     "name": "#%%\n"
    }
   },
   "outputs": [],
   "source": [
    "file2 = open(\"pickle/PS/PS_imputation.pkl\",'rb')\n",
    "dataset = pickle.load(file2)"
   ]
  },
  {
   "cell_type": "code",
   "execution_count": 6,
   "metadata": {
    "pycharm": {
     "name": "#%%\n"
    }
   },
   "outputs": [
    {
     "name": "stdout",
     "output_type": "stream",
     "text": [
      "Fitting estimator with 70 features.\n",
      "Fitting estimator with 65 features.\n",
      "Fitting estimator with 60 features.\n",
      "Fitting estimator with 55 features.\n",
      "Fitting estimator with 50 features.\n",
      "Fitting estimator with 45 features.\n",
      "Fitting estimator with 40 features.\n",
      "Fitting estimator with 35 features.\n",
      "Fitting estimator with 70 features.\n",
      "Fitting estimator with 65 features.\n",
      "Fitting estimator with 60 features.\n",
      "Fitting estimator with 55 features.\n",
      "Fitting estimator with 50 features.\n",
      "Fitting estimator with 45 features.\n",
      "Fitting estimator with 40 features.\n",
      "Fitting estimator with 35 features.\n"
     ]
    }
   ],
   "source": [
    "# ----------  load datasets ----------\n",
    "from ProjectML.proceduralSuccess.pre_processing import *\n",
    "from ProjectML.proceduralSuccess.feature_extraction import *\n",
    "X, y, dataset = extract_feature(dataset)\n",
    "mask, gb_coefs, gb_mask, rf_coefs, rf_mask = voting_feature_selection(X, y)\n",
    "X = X.loc[:,mask]\n",
    "\n",
    "X_scaled = pd.read_pickle('pickle/PS/PS_scaled_features.pkl')\n",
    "X_scaled = X_scaled.loc[:, ['CenterID','PatientID']]\n"
   ]
  },
  {
   "cell_type": "markdown",
   "metadata": {},
   "source": [
    "## Random Forest"
   ]
  },
  {
   "cell_type": "code",
   "execution_count": 7,
   "metadata": {
    "pycharm": {
     "name": "#%%\n"
    }
   },
   "outputs": [
    {
     "name": "stderr",
     "output_type": "stream",
     "text": [
      "C:\\Users\\utente\\AppData\\Roaming\\Python\\Python37\\site-packages\\sklearn\\base.py:318: UserWarning: Trying to unpickle estimator DecisionTreeClassifier from version 0.22.1 when using version 0.22. This might lead to breaking code or invalid results. Use at your own risk.\n",
      "  UserWarning)\n",
      "C:\\Users\\utente\\AppData\\Roaming\\Python\\Python37\\site-packages\\sklearn\\base.py:318: UserWarning: Trying to unpickle estimator RandomForestClassifier from version 0.22.1 when using version 0.22. This might lead to breaking code or invalid results. Use at your own risk.\n",
      "  UserWarning)\n"
     ]
    }
   ],
   "source": [
    "# load model\n",
    "file2 = open(\"pickle/PS/model_random_forest.pkl\",'rb')\n",
    "rf= pickle.load(file2)"
   ]
  },
  {
   "cell_type": "code",
   "execution_count": 8,
   "metadata": {
    "pycharm": {
     "name": "#%%\n"
    }
   },
   "outputs": [],
   "source": [
    "# ---------- init split test ----------\n",
    "X_train_val, X_test, y_train_val, y_test = my_l_split(X, y, 0.1)\n",
    "X_train_val_scal, X_test_scal, y_train_val_scal, y_test_scal = my_l_split(X_scaled, y, 0.1)\n",
    "# ---------- end split test ----------\n",
    "\n",
    "\n",
    "# ---------- init split train validation ----------\n",
    "X_train, X_val, y_train, y_val = my_l_split(X_train_val, y_train_val, 2 / 9)\n",
    "X_train_scal, X_val_scal, y_train_scal, y_val_scal = my_l_split(X_train_val_scal, y_train_val_scal, 2 / 9)\n",
    "# ---------- end split train validation ----------\n"
   ]
  },
  {
   "cell_type": "code",
   "execution_count": 9,
   "metadata": {
    "pycharm": {
     "name": "#%%\n"
    }
   },
   "outputs": [
    {
     "name": "stdout",
     "output_type": "stream",
     "text": [
      "Classification report on test set:\n",
      "              precision    recall  f1-score   support\n",
      "\n",
      "       False       1.00      0.95      0.97        41\n",
      "        True       0.99      1.00      1.00       299\n",
      "\n",
      "    accuracy                           0.99       340\n",
      "   macro avg       1.00      0.98      0.99       340\n",
      "weighted avg       0.99      0.99      0.99       340\n",
      "\n"
     ]
    }
   ],
   "source": [
    "#evaluation\n",
    "from ProjectML.general_util.evaluation import *\n",
    "print(\"Classification report on test set:\")\n",
    "y_pred = rf.predict(X_test)\n",
    "rep_test = classification_report(y_test, y_pred)\n",
    "print(rep_test)"
   ]
  },
  {
   "cell_type": "code",
   "execution_count": 10,
   "metadata": {
    "pycharm": {
     "name": "#%%\n"
    }
   },
   "outputs": [
    {
     "name": "stdout",
     "output_type": "stream",
     "text": [
      "Cross validation cv = 10 \n",
      "f1_score: 0.94 (+/- 0.03) (class 0)\n",
      "f1_score: 0.99 (+/- 0.00) (class 1)\n"
     ]
    }
   ],
   "source": [
    "#cross validation f1 score\n",
    "clf = RandomForestClassifier(n_estimators=500, criterion='gini', max_features=5, n_jobs=-1, \\\n",
    "                             class_weight='balanced',random_state=SEED)\n",
    "print(\"Cross validation cv = 10 \")\n",
    "f1_mean0, f1_std0, f1_mean1, f1_std1 = my_cross_f1(X, y, clf, cv=10)\n",
    "print(\"f1_score: %0.2f (+/- %0.2f) (class 0)\" % (f1_mean0, f1_std0 * 1.95))\n",
    "print(\"f1_score: %0.2f (+/- %0.2f) (class 1)\" % (f1_mean1, f1_std1 * 1.95))"
   ]
  },
  {
   "cell_type": "markdown",
   "metadata": {},
   "source": [
    "## SVM"
   ]
  },
  {
   "cell_type": "code",
   "execution_count": 11,
   "metadata": {
    "pycharm": {
     "name": "#%%\n"
    }
   },
   "outputs": [
    {
     "name": "stderr",
     "output_type": "stream",
     "text": [
      "C:\\Users\\utente\\AppData\\Roaming\\Python\\Python37\\site-packages\\sklearn\\base.py:318: UserWarning: Trying to unpickle estimator SVC from version 0.22.1 when using version 0.22. This might lead to breaking code or invalid results. Use at your own risk.\n",
      "  UserWarning)\n"
     ]
    }
   ],
   "source": [
    "# load model\n",
    "file2 = open(\"pickle/PS/model_svm.pkl\",'rb')\n",
    "model = pickle.load(file2)"
   ]
  },
  {
   "cell_type": "code",
   "execution_count": 12,
   "metadata": {
    "pycharm": {
     "name": "#%%\n"
    }
   },
   "outputs": [
    {
     "name": "stdout",
     "output_type": "stream",
     "text": [
      "Classification report on test set:\n",
      "              precision    recall  f1-score   support\n",
      "\n",
      "       False       0.87      0.95      0.91        41\n",
      "        True       0.99      0.98      0.99       299\n",
      "\n",
      "    accuracy                           0.98       340\n",
      "   macro avg       0.93      0.97      0.95       340\n",
      "weighted avg       0.98      0.98      0.98       340\n",
      "\n"
     ]
    }
   ],
   "source": [
    "from ProjectML.general_util.evaluation import *\n",
    "print(\"Classification report on test set:\")\n",
    "y_pred = model.predict(X_test_scal)\n",
    "rep_test = classification_report(y_test_scal, y_pred)\n",
    "print(rep_test)"
   ]
  },
  {
   "cell_type": "code",
   "execution_count": 13,
   "metadata": {
    "pycharm": {
     "name": "#%%\n"
    }
   },
   "outputs": [
    {
     "name": "stdout",
     "output_type": "stream",
     "text": [
      "SVM: cross validation cv = 10 \n",
      "f1_score: 0.88 (+/- 0.07) (class 0)\n",
      "f1_score: 0.98 (+/- 0.01) (class 1)\n"
     ]
    }
   ],
   "source": [
    "#cross validation f1 score\n",
    "from sklearn import svm\n",
    "clf = svm.SVC(C=100.0, kernel='rbf', class_weight='balanced', max_iter=-1, random_state=SEED)\n",
    "print(\"SVM: cross validation cv = 10 \")\n",
    "f1_mean0, f1_std0, f1_mean1, f1_std1 = my_cross_f1(X_scaled, y, clf, cv=10)\n",
    "print(\"f1_score: %0.2f (+/- %0.2f) (class 0)\" % (f1_mean0, f1_std0 * 1.95))\n",
    "print(\"f1_score: %0.2f (+/- %0.2f) (class 1)\" % (f1_mean1, f1_std1 * 1.95))"
   ]
  }
 ],
 "metadata": {
  "kernelspec": {
   "display_name": "Python 3",
   "language": "python",
   "name": "python3"
  },
  "language_info": {
   "codemirror_mode": {
    "name": "ipython",
    "version": 3
   },
   "file_extension": ".py",
   "mimetype": "text/x-python",
   "name": "python",
   "nbconvert_exporter": "python",
   "pygments_lexer": "ipython3",
   "version": "3.7.3"
  },
  "pycharm": {
   "stem_cell": {
    "cell_type": "raw",
    "metadata": {
     "collapsed": false
    },
    "source": []
   }
  }
 },
 "nbformat": 4,
 "nbformat_minor": 1
}
